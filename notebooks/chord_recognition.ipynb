{
 "cells": [
  {
   "cell_type": "markdown",
   "metadata": {},
   "source": [
    "# A chord Recognition algorithm using Harmonic pitch Chord Profilng and Neural Network\n",
    "\n",
    "The following notebook more or less reproduce the framework described in the following paper:\n",
    "https://pdfs.semanticscholar.org/155e/64c0411fb58f87d2626ce9ef1417efd26f85.pdf"
   ]
  },
  {
   "cell_type": "markdown",
   "metadata": {},
   "source": [
    "First things first, the required packges"
   ]
  },
  {
   "cell_type": "code",
   "execution_count": 41,
   "metadata": {},
   "outputs": [],
   "source": [
    "%matplotlib inline\n",
    "import numpy as np \n",
    "import pandas as pd\n",
    "from matplotlib import pyplot as plt\n",
    "import scipy as sp\n",
    "from scipy.io.wavfile import read\n",
    "from glob import glob\n",
    "import os\n",
    "import itertools\n",
    "from sklearn.model_selection import train_test_split\n",
    "from sklearn.metrics import confusion_matrix"
   ]
  },
  {
   "cell_type": "code",
   "execution_count": 30,
   "metadata": {},
   "outputs": [],
   "source": [
    "from keras.utils import np_utils\n",
    "from keras.wrappers.scikit_learn import KerasClassifier\n",
    "from keras.models import Sequential\n",
    "from keras.layers import Dense\n",
    "from keras.callbacks import History, Callback, ModelCheckpoint, EarlyStopping\n",
    "from keras.utils import print_summary \n",
    "from keras.regularizers import L1L2\n",
    "from keras.optimizers import SGD, Adam"
   ]
  },
  {
   "cell_type": "markdown",
   "metadata": {},
   "source": [
    "I then defined a preprocessing function to compute the HPCP as described in the paper and add some useful metadata like the instrument (This is useful later to evaluate the ability of such an algorithm to recognize chords from a new instrument or a different recording setting of the same one). \n",
    "One thing I found unclear in the paper, is that since they use an fft_size of 16384 samples, which windows to select to represent each audio snippet. Therefore, I choose to include each of the consective windows as a separate sample for my dataset. However, since some samples were played melodically, this method might have some drawbacks onthe performance. One could also think of averaging them (which would reduce the sample size obviously)."
   ]
  },
  {
   "cell_type": "code",
   "execution_count": 22,
   "metadata": {},
   "outputs": [],
   "source": [
    "def preprocessing(rate, data, fft_size, label, instrument):\n",
    "    \"\"\"\n",
    "    Convert the input audio sampled at the input rate\n",
    "    to a list of HPCP vectors computed using the input fft_size\n",
    "    (effectively outputing int(len(data)/fft_size)) HPCP vectors\n",
    "    \"\"\"\n",
    "    output_samples = []\n",
    "    for i in range(int(len(data)/fft_size)):\n",
    "        ###Computing the DFT by taking a fragment of the audio \n",
    "        dft = np.fft.fft(data[fft_size*i:fft_size*(i+1)])\n",
    "        ### Computiong the Harmonic pitch class profile\n",
    "        HPCP = []\n",
    "        f_ref = 130.80\n",
    "        M = [round(12*np.log2(rate*l/(fft_size*f_ref))) %12 if l > 0 else -1 for l in range(int(fft_size/2))]\n",
    "        M = np.array(M)\n",
    "        for p in range(12):\n",
    "            val = np.sum((np.absolute(dft[:int(fft_size/2)])**2)* (M == p).astype(int) )\n",
    "            HPCP.append(val)\n",
    "        HPCP = [x/sum(HPCP) for x in HPCP]\n",
    "        output_sample = HPCP + [i, instrument, label]\n",
    "        output_samples.append(output_sample)\n",
    "     \n",
    "    return output_samples\n",
    "    "
   ]
  },
  {
   "cell_type": "code",
   "execution_count": 56,
   "metadata": {},
   "outputs": [
    {
     "name": "stderr",
     "output_type": "stream",
     "text": [
      "C:\\Users\\franck\\Anaconda3\\envs\\tensorflow\\lib\\site-packages\\scipy\\io\\wavfile.py:273: WavFileWarning: Chunk (non-data) not understood, skipping it.\n",
      "  WavFileWarning)\n"
     ]
    }
   ],
   "source": [
    "labels_dict = {\n",
    "    'a':0,\n",
    "    'am':1,\n",
    "    'bm':2,\n",
    "    'c':3,\n",
    "    'd':4,\n",
    "    'dm':5,\n",
    "    'e':6,\n",
    "    'em':7,\n",
    "    'f':8,\n",
    "    'g':9\n",
    "}\n",
    "samples = []\n",
    "fft_size = 16384\n",
    "clean_guitar_chords = glob('../data/Guitar_Only/*/*')\n",
    "for chord in clean_guitar_chords:\n",
    "    label = labels_dict[chord.split('\\\\')[-2]]\n",
    "    instrument = 'Guitar'\n",
    "    rate, data = read(chord)\n",
    "    samples_temp = preprocessing(rate, data, fft_size, label, instrument)\n",
    "    samples = samples + samples_temp\n",
    "\n",
    "other_instr_chords = glob('../data/Other_Instruments/*/*/*')\n",
    "for chord in other_instr_chords:\n",
    "    try:\n",
    "        label = labels_dict[chord.split('\\\\')[-2]]\n",
    "        instrument = chord.split('\\\\')[-3] if chord.split('\\\\')[-3] != 'Guitar' else 'Guitar_Noisy'\n",
    "        rate, data = read(chord)\n",
    "        samples_temp = preprocessing(rate, data, fft_size, label, instrument)\n",
    "        samples = samples + samples_temp\n",
    "    except:\n",
    "        pass"
   ]
  },
  {
   "cell_type": "code",
   "execution_count": 57,
   "metadata": {},
   "outputs": [
    {
     "data": {
      "text/html": [
       "<div>\n",
       "<style scoped>\n",
       "    .dataframe tbody tr th:only-of-type {\n",
       "        vertical-align: middle;\n",
       "    }\n",
       "\n",
       "    .dataframe tbody tr th {\n",
       "        vertical-align: top;\n",
       "    }\n",
       "\n",
       "    .dataframe thead th {\n",
       "        text-align: right;\n",
       "    }\n",
       "</style>\n",
       "<table border=\"1\" class=\"dataframe\">\n",
       "  <thead>\n",
       "    <tr style=\"text-align: right;\">\n",
       "      <th></th>\n",
       "      <th>0</th>\n",
       "      <th>1</th>\n",
       "      <th>2</th>\n",
       "      <th>3</th>\n",
       "      <th>4</th>\n",
       "      <th>5</th>\n",
       "      <th>6</th>\n",
       "      <th>7</th>\n",
       "      <th>8</th>\n",
       "      <th>9</th>\n",
       "      <th>10</th>\n",
       "      <th>11</th>\n",
       "      <th>step</th>\n",
       "      <th>instrument</th>\n",
       "      <th>label</th>\n",
       "    </tr>\n",
       "  </thead>\n",
       "  <tbody>\n",
       "    <tr>\n",
       "      <th>0</th>\n",
       "      <td>0.005290</td>\n",
       "      <td>0.106823</td>\n",
       "      <td>0.008569</td>\n",
       "      <td>0.013816</td>\n",
       "      <td>0.411795</td>\n",
       "      <td>0.015362</td>\n",
       "      <td>0.036798</td>\n",
       "      <td>0.014543</td>\n",
       "      <td>0.009410</td>\n",
       "      <td>0.364362</td>\n",
       "      <td>0.009016</td>\n",
       "      <td>0.004217</td>\n",
       "      <td>0</td>\n",
       "      <td>Guitar</td>\n",
       "      <td>0</td>\n",
       "    </tr>\n",
       "    <tr>\n",
       "      <th>1</th>\n",
       "      <td>0.006705</td>\n",
       "      <td>0.127006</td>\n",
       "      <td>0.008682</td>\n",
       "      <td>0.015580</td>\n",
       "      <td>0.351349</td>\n",
       "      <td>0.007606</td>\n",
       "      <td>0.001009</td>\n",
       "      <td>0.001746</td>\n",
       "      <td>0.008590</td>\n",
       "      <td>0.446242</td>\n",
       "      <td>0.017245</td>\n",
       "      <td>0.008242</td>\n",
       "      <td>1</td>\n",
       "      <td>Guitar</td>\n",
       "      <td>0</td>\n",
       "    </tr>\n",
       "    <tr>\n",
       "      <th>2</th>\n",
       "      <td>0.001034</td>\n",
       "      <td>0.041798</td>\n",
       "      <td>0.003427</td>\n",
       "      <td>0.004157</td>\n",
       "      <td>0.412305</td>\n",
       "      <td>0.013483</td>\n",
       "      <td>0.001393</td>\n",
       "      <td>0.001994</td>\n",
       "      <td>0.003698</td>\n",
       "      <td>0.509518</td>\n",
       "      <td>0.003990</td>\n",
       "      <td>0.003201</td>\n",
       "      <td>2</td>\n",
       "      <td>Guitar</td>\n",
       "      <td>0</td>\n",
       "    </tr>\n",
       "    <tr>\n",
       "      <th>3</th>\n",
       "      <td>0.003055</td>\n",
       "      <td>0.125677</td>\n",
       "      <td>0.011613</td>\n",
       "      <td>0.008409</td>\n",
       "      <td>0.408539</td>\n",
       "      <td>0.004442</td>\n",
       "      <td>0.014844</td>\n",
       "      <td>0.009215</td>\n",
       "      <td>0.006436</td>\n",
       "      <td>0.389792</td>\n",
       "      <td>0.006976</td>\n",
       "      <td>0.011002</td>\n",
       "      <td>0</td>\n",
       "      <td>Guitar</td>\n",
       "      <td>0</td>\n",
       "    </tr>\n",
       "    <tr>\n",
       "      <th>4</th>\n",
       "      <td>0.002733</td>\n",
       "      <td>0.099840</td>\n",
       "      <td>0.013896</td>\n",
       "      <td>0.012738</td>\n",
       "      <td>0.155637</td>\n",
       "      <td>0.010405</td>\n",
       "      <td>0.006699</td>\n",
       "      <td>0.007023</td>\n",
       "      <td>0.018963</td>\n",
       "      <td>0.627339</td>\n",
       "      <td>0.014537</td>\n",
       "      <td>0.030191</td>\n",
       "      <td>1</td>\n",
       "      <td>Guitar</td>\n",
       "      <td>0</td>\n",
       "    </tr>\n",
       "  </tbody>\n",
       "</table>\n",
       "</div>"
      ],
      "text/plain": [
       "          0         1         2         3         4         5         6  \\\n",
       "0  0.005290  0.106823  0.008569  0.013816  0.411795  0.015362  0.036798   \n",
       "1  0.006705  0.127006  0.008682  0.015580  0.351349  0.007606  0.001009   \n",
       "2  0.001034  0.041798  0.003427  0.004157  0.412305  0.013483  0.001393   \n",
       "3  0.003055  0.125677  0.011613  0.008409  0.408539  0.004442  0.014844   \n",
       "4  0.002733  0.099840  0.013896  0.012738  0.155637  0.010405  0.006699   \n",
       "\n",
       "          7         8         9        10        11  step instrument  label  \n",
       "0  0.014543  0.009410  0.364362  0.009016  0.004217     0     Guitar      0  \n",
       "1  0.001746  0.008590  0.446242  0.017245  0.008242     1     Guitar      0  \n",
       "2  0.001994  0.003698  0.509518  0.003990  0.003201     2     Guitar      0  \n",
       "3  0.009215  0.006436  0.389792  0.006976  0.011002     0     Guitar      0  \n",
       "4  0.007023  0.018963  0.627339  0.014537  0.030191     1     Guitar      0  "
      ]
     },
     "execution_count": 57,
     "metadata": {},
     "output_type": "execute_result"
    }
   ],
   "source": [
    "columns = ['{}'.format(x) for x in range(12)] +['step', 'instrument', 'label']\n",
    "df = pd.DataFrame(samples, columns=columns)\n",
    "df.head()\n"
   ]
  },
  {
   "cell_type": "code",
   "execution_count": 58,
   "metadata": {},
   "outputs": [
    {
     "data": {
      "text/plain": [
       "\"\\ndf.to_csv('../data/processed.csv', index=False)\\n\""
      ]
     },
     "execution_count": 58,
     "metadata": {},
     "output_type": "execute_result"
    }
   ],
   "source": [
    "\"\"\"\n",
    "df.to_csv('../data/processed.csv', index=False)\n",
    "\"\"\""
   ]
  },
  {
   "cell_type": "markdown",
   "metadata": {},
   "source": [
    "As they did in the paper, I choose to use a mixture of of clean and noisy guitar samples as the training set and the rest of the guitr samples + all the other instruments as a test set. I also took a subset of the test set to use it as validation for the early stoppingin Keras"
   ]
  },
  {
   "cell_type": "code",
   "execution_count": 59,
   "metadata": {},
   "outputs": [],
   "source": [
    "df_guitar = df[['Guitar' in x for x in  df['instrument']]]\n",
    "df_not_guitar = df[['Guitar' not in x for x in  df['instrument']]]\n",
    "X_guitar = df_guitar[['{}'.format(x) for x in range(12)]]\n",
    "Y_guitar = df_guitar[['step', 'instrument', 'label']]\n",
    "X_not_guitar = df_not_guitar[['{}'.format(x) for x in range(12)]]\n",
    "Y_not_guitar = df_not_guitar[['step', 'instrument', 'label']]\n",
    "\n",
    "\n",
    "X_train, X_test, Y_train, Y_test = train_test_split(X_guitar, Y_guitar, stratify=Y_guitar['label'])\n",
    "\n",
    "#add all the other instruments to the test set\n",
    "X_test = pd.concat([X_test, X_not_guitar])\n",
    "Y_test = pd.concat([Y_test, Y_not_guitar])\n",
    "\n",
    "#Create a validation set that is going to be used for early stopping\n",
    "X_test_final, X_val, Y_test_final, Y_val = train_test_split(X_test, Y_test, stratify=Y_test['instrument'])\n",
    "\n",
    "#formatting the output vector for keras\n",
    "y_train = np_utils.to_categorical(Y_train['label'])\n",
    "y_test_final = np_utils.to_categorical(Y_test_final['label'])\n",
    "y_val = np_utils.to_categorical(Y_val['label'])\n"
   ]
  },
  {
   "cell_type": "markdown",
   "metadata": {},
   "source": [
    "Finally I created the model in Keras, adding one additionnal hidden layer to the architechture presented in the model because I noticed that their artitechture was not suffering from overfitting so I tried to increase the model capacitiy to see if that would improve performance"
   ]
  },
  {
   "cell_type": "code",
   "execution_count": 60,
   "metadata": {},
   "outputs": [
    {
     "name": "stdout",
     "output_type": "stream",
     "text": [
      "_________________________________________________________________\n",
      "Layer (type)                 Output Shape              Param #   \n",
      "=================================================================\n",
      "dense_24 (Dense)             (None, 35)                455       \n",
      "_________________________________________________________________\n",
      "dense_25 (Dense)             (None, 35)                1260      \n",
      "_________________________________________________________________\n",
      "dense_26 (Dense)             (None, 10)                360       \n",
      "=================================================================\n",
      "Total params: 2,075\n",
      "Trainable params: 2,075\n",
      "Non-trainable params: 0\n",
      "_________________________________________________________________\n",
      "None\n",
      "Train on 7555 samples, validate on 825 samples\n",
      "Epoch 1/200\n",
      " - 9s - loss: 2.1554 - acc: 0.3958 - val_loss: 1.9801 - val_acc: 0.5236\n",
      "Epoch 2/200\n",
      " - 8s - loss: 1.4898 - acc: 0.6593 - val_loss: 1.1750 - val_acc: 0.7261\n",
      "Epoch 3/200\n",
      " - 8s - loss: 0.8136 - acc: 0.7825 - val_loss: 0.7425 - val_acc: 0.8012\n",
      "Epoch 4/200\n",
      " - 8s - loss: 0.5376 - acc: 0.8453 - val_loss: 0.5738 - val_acc: 0.8448\n",
      "Epoch 5/200\n",
      " - 8s - loss: 0.4199 - acc: 0.8790 - val_loss: 0.4860 - val_acc: 0.8521\n",
      "Epoch 6/200\n",
      " - 8s - loss: 0.3557 - acc: 0.8989 - val_loss: 0.4445 - val_acc: 0.8521\n",
      "Epoch 7/200\n",
      " - 8s - loss: 0.3126 - acc: 0.9077 - val_loss: 0.3987 - val_acc: 0.8764\n",
      "Epoch 8/200\n",
      " - 7s - loss: 0.2838 - acc: 0.9145 - val_loss: 0.3784 - val_acc: 0.8703\n",
      "Epoch 9/200\n",
      " - 8s - loss: 0.2616 - acc: 0.9183 - val_loss: 0.3581 - val_acc: 0.8873\n",
      "Epoch 10/200\n",
      " - 8s - loss: 0.2453 - acc: 0.9218 - val_loss: 0.3635 - val_acc: 0.8521\n",
      "Epoch 11/200\n",
      " - 8s - loss: 0.2328 - acc: 0.9263 - val_loss: 0.3538 - val_acc: 0.8885\n",
      "Epoch 12/200\n",
      " - 8s - loss: 0.2229 - acc: 0.9289 - val_loss: 0.3341 - val_acc: 0.8752\n",
      "Epoch 13/200\n",
      " - 8s - loss: 0.2136 - acc: 0.9284 - val_loss: 0.3243 - val_acc: 0.9030\n",
      "Epoch 14/200\n",
      " - 8s - loss: 0.2070 - acc: 0.9325 - val_loss: 0.3335 - val_acc: 0.8873\n",
      "Epoch 15/200\n",
      " - 8s - loss: 0.2013 - acc: 0.9336 - val_loss: 0.3166 - val_acc: 0.8933\n",
      "Epoch 16/200\n",
      " - 8s - loss: 0.1974 - acc: 0.9326 - val_loss: 0.3117 - val_acc: 0.8873\n",
      "Epoch 17/200\n",
      " - 7s - loss: 0.1923 - acc: 0.9351 - val_loss: 0.3170 - val_acc: 0.8873\n",
      "Epoch 18/200\n",
      " - 7s - loss: 0.1882 - acc: 0.9358 - val_loss: 0.3044 - val_acc: 0.8970\n",
      "Epoch 00018: early stopping\n"
     ]
    },
    {
     "data": {
      "image/png": "[encoded data removed]",
      "text/plain": [
       "<Figure size 432x288 with 1 Axes>"
      ]
     },
     "metadata": {},
     "output_type": "display_data"
    }
   ],
   "source": [
    "def create_model():\n",
    "    # create model\n",
    "    model = Sequential()\n",
    "    model.add(Dense(35, input_shape=(X_train.shape[1],), activation='relu'))\n",
    "    model.add(Dense(35, activation='relu'))\n",
    "    model.add(Dense(10, activation='softmax'))\n",
    "    sgd = SGD(lr=0.001, momentum=0.25, decay=0.0)\n",
    "    model.compile(loss='categorical_crossentropy', optimizer=sgd, metrics=['accuracy'])\n",
    "    print(model.summary())\n",
    "    return model\n",
    "\n",
    "#history = LossHistory()\n",
    "history = History()\n",
    "filepath = '../data/external/weights_best.hdf5'\n",
    "model = KerasClassifier(build_fn=create_model, epochs=200, batch_size=1, verbose=2, )#, validation_data=(X_test, y_test))\n",
    "earlystop = EarlyStopping(monitor='val_acc', min_delta=0.0001, patience=5, \\\n",
    "                          verbose=1, mode='auto')\n",
    "model.fit(X_train.values, y_train, callbacks = [history, earlystop], validation_data=(X_val.values, y_val))# model__validation_split=0.3)\n",
    "# plot history\n",
    "plt.plot(history.history['acc'], label='train')\n",
    "##plt.plot(history.losses, label='train', alpha=.5)\n",
    "plt.plot(history.history['val_acc'], label='test')\n",
    "#plt.plot(history.val_losses, label='test', alpha=.5)\n",
    "plt.legend()\n",
    "plt.show()"
   ]
  },
  {
   "cell_type": "markdown",
   "metadata": {},
   "source": [
    "The last step is isualizing the confusion matrix for each instrument to see how our chord recognition algoritm trained on a mixture of clean and noisy guitar sample perform accross multiple instruments"
   ]
  },
  {
   "cell_type": "code",
   "execution_count": 61,
   "metadata": {
    "collapsed": true
   },
   "outputs": [],
   "source": [
    "def plot_confusion_matrix(cm, classes,\n",
    "                          normalize=False,\n",
    "                          title='Confusion matrix',\n",
    "                          cmap=plt.cm.Blues):\n",
    "    \"\"\"\n",
    "    This function prints and plots the confusion matrix.\n",
    "    Normalization can be applied by setting `normalize=True`.\n",
    "    \"\"\"\n",
    "    if normalize:\n",
    "        cm = cm.astype('float') / cm.sum(axis=1)[:, np.newaxis]\n",
    "        print(\"Normalized confusion matrix\")\n",
    "    else:\n",
    "        print('Confusion matrix, without normalization')\n",
    "\n",
    "    print(cm)\n",
    "\n",
    "    plt.imshow(cm, interpolation='nearest', cmap=cmap)\n",
    "    plt.title(title)\n",
    "    plt.colorbar()\n",
    "    tick_marks = np.arange(len(classes))\n",
    "    plt.xticks(tick_marks, classes, rotation=45)\n",
    "    plt.yticks(tick_marks, classes)\n",
    "\n",
    "    fmt = '.2f' if normalize else 'd'\n",
    "    thresh = cm.max() / 2.\n",
    "    for i, j in itertools.product(range(cm.shape[0]), range(cm.shape[1])):\n",
    "        plt.text(j, i, format(cm[i, j], fmt),\n",
    "                 horizontalalignment=\"center\",\n",
    "                 color=\"white\" if cm[i, j] > thresh else \"black\")\n",
    "\n",
    "    plt.tight_layout()\n",
    "    plt.ylabel('True label')\n",
    "    plt.xlabel('Predicted label')"
   ]
  },
  {
   "cell_type": "markdown",
   "metadata": {},
   "source": [
    "### Clean Guitar"
   ]
  },
  {
   "cell_type": "code",
   "execution_count": 62,
   "metadata": {},
   "outputs": [
    {
     "name": "stdout",
     "output_type": "stream",
     "text": [
      "Confusion matrix, without normalization\n",
      "[[146   5   0   0   0   0   0   0   0   0]\n",
      " [  5 171   0   1   0   0   0   1   5   0]\n",
      " [  0   0 141   0   1   0   0   0   0   1]\n",
      " [  0   0   0 249   0   0   0   1   4   0]\n",
      " [  1   0   0   0 167  15   0   0   0   0]\n",
      " [  0   0   0   0  13 145   0   0   2   1]\n",
      " [  0   0   3   0   0   0 191   2   0   0]\n",
      " [  0   0   1   0   0   0   3 154   0   1]\n",
      " [  0   3   0   8   0   0   0   0 195   0]\n",
      " [  0   0   0   0   0   0   0   1   0 190]]\n"
     ]
    },
    {
     "data": {
      "image/png": "[encoded data removed]",
      "text/plain": [
       "<Figure size 432x288 with 2 Axes>"
      ]
     },
     "metadata": {},
     "output_type": "display_data"
    }
   ],
   "source": [
    "Y_clean_guitar = Y_test_final[Y_test_final['instrument'] == 'Guitar']\n",
    "X_clean_guitar = X_test_final[Y_test_final['instrument'] == 'Guitar']\n",
    "y_clean_guitar_hat = model.predict(X_clean_guitar)\n",
    "cm = confusion_matrix(Y_clean_guitar['label'], y_clean_guitar_hat)\n",
    "plot_confusion_matrix(cm, classes=labels_dict.keys(),\n",
    "                          normalize=False,\n",
    "                          title='Confusion matrix',\n",
    "                          cmap=plt.cm.Blues)"
   ]
  },
  {
   "cell_type": "markdown",
   "metadata": {},
   "source": [
    "We can see that the classifier often confuses a D for a Dm. This is interesting because they onl vary by the 3rd that goes from major to minor ( F# to F). This is understandable given thefeatures that we use (th HPCP). Howeer, it goes to show that this is probably not the way human recognize chords since major and minor color in chord are rather easily distinguishable for musicians"
   ]
  },
  {
   "cell_type": "markdown",
   "metadata": {},
   "source": [
    "### Noisy Guitar"
   ]
  },
  {
   "cell_type": "code",
   "execution_count": 64,
   "metadata": {},
   "outputs": [
    {
     "name": "stdout",
     "output_type": "stream",
     "text": [
      "Confusion matrix, without normalization\n",
      "[[9 0 0 0 0 0 0 0 0 0]\n",
      " [0 5 0 0 0 0 0 0 0 0]\n",
      " [0 0 5 0 0 0 0 0 0 0]\n",
      " [0 0 0 5 0 0 0 0 0 0]\n",
      " [0 0 0 0 4 2 0 0 0 0]\n",
      " [0 0 0 0 2 2 0 0 0 0]\n",
      " [0 0 0 0 0 0 7 0 0 0]\n",
      " [0 0 0 0 0 0 0 7 0 0]\n",
      " [0 0 0 0 0 0 0 0 9 0]\n",
      " [0 0 0 0 0 0 0 0 0 5]]\n"
     ]
    },
    {
     "data": {
      "image/png": "[encoded data removed]",
      "text/plain": [
       "<Figure size 432x288 with 2 Axes>"
      ]
     },
     "metadata": {},
     "output_type": "display_data"
    }
   ],
   "source": [
    "Y_noisy_guitar = Y_test_final[Y_test_final['instrument'] == 'Guitar_Noisy']\n",
    "X_noisy_guitar = X_test_final[Y_test_final['instrument'] == 'Guitar_Noisy']\n",
    "y_noisy_guitar_hat = model.predict(X_noisy_guitar)\n",
    "cm = confusion_matrix(Y_noisy_guitar['label'], y_noisy_guitar_hat)\n",
    "plot_confusion_matrix(cm, classes=labels_dict.keys(),\n",
    "                          normalize=False,\n",
    "                          title='Confusion matrix',\n",
    "                          cmap=plt.cm.Blues)"
   ]
  },
  {
   "cell_type": "markdown",
   "metadata": {},
   "source": [
    "The sample size is rather low for this instrument (probaby because of how I divided my dataset but we can see the same behaviour as for the clean guitar"
   ]
  },
  {
   "cell_type": "markdown",
   "metadata": {},
   "source": [
    "### Accordion"
   ]
  },
  {
   "cell_type": "code",
   "execution_count": 65,
   "metadata": {},
   "outputs": [
    {
     "name": "stdout",
     "output_type": "stream",
     "text": [
      "Confusion matrix, without normalization\n",
      "[[34  0  0  0  0  0  0  0  0  0]\n",
      " [ 1  4  0 29  0  0  0  0  1  0]\n",
      " [ 0  0 22  0  9  0  0  0  0  0]\n",
      " [ 0  0  0 19  0  0  0  0  0  2]\n",
      " [ 0  0  0  0 31  0  0  0  0  0]\n",
      " [ 0  0  0  0  0 10  0  0 23  0]\n",
      " [ 0  0  0  0  0  0 32  0  0  0]\n",
      " [ 0  0 10  0  0  0  2 12  0  6]\n",
      " [ 0  0  0  0  0  0  0  0  0  0]\n",
      " [ 0  0 16  0  1  3  0  0  0 11]]\n"
     ]
    },
    {
     "data": {
      "image/png": "[encoded data removed]",
      "text/plain": [
       "<Figure size 432x288 with 2 Axes>"
      ]
     },
     "metadata": {},
     "output_type": "display_data"
    }
   ],
   "source": [
    "Y_accordion = Y_test_final[Y_test_final['instrument'] == 'Accordion']\n",
    "X_accordion = X_test_final[Y_test_final['instrument'] == 'Accordion']\n",
    "y_accordion_hat = model.predict(X_accordion)\n",
    "cm = confusion_matrix(Y_accordion['label'], y_accordion_hat)\n",
    "plot_confusion_matrix(cm, classes=labels_dict.keys(),\n",
    "                          normalize=False,\n",
    "                          title='Confusion matrix',\n",
    "                          cmap=plt.cm.Blues)"
   ]
  },
  {
   "cell_type": "markdown",
   "metadata": {},
   "source": [
    "We can directly notice that the performance is poorer for this instrument. However, the mistake make sense because they usually occur occur for chords that differe by one note (Dm vs F or G vs Bm). The algorithm is having a hard time distinguishing them for new instrument because of the different spectral distribution."
   ]
  },
  {
   "cell_type": "markdown",
   "metadata": {},
   "source": [
    "### Piano"
   ]
  },
  {
   "cell_type": "code",
   "execution_count": 66,
   "metadata": {},
   "outputs": [
    {
     "name": "stdout",
     "output_type": "stream",
     "text": [
      "Confusion matrix, without normalization\n",
      "[[27  0  0  0  0  0  0  0  1  0]\n",
      " [ 0 16  0  6  0  0  0  0  2  0]\n",
      " [ 0  0 16  0  0  0  0  0  0  0]\n",
      " [ 0  1  0 17  0  0  0  2  0  0]\n",
      " [ 0  0  0  0 17  0  0  0  0  0]\n",
      " [ 0  0  0  0  0  7  0  0  5  0]\n",
      " [ 0  0  0  0  0  0 14  0  0  0]\n",
      " [ 0  0  0  0  0  0  0 11  0  3]\n",
      " [ 0  0  0  0  0  1  0  0 14  0]\n",
      " [ 0  0  2  1  0  1  0  0  0  8]]\n"
     ]
    },
    {
     "data": {
      "image/png": "[encoded data removed]",
      "text/plain": [
       "<Figure size 432x288 with 2 Axes>"
      ]
     },
     "metadata": {},
     "output_type": "display_data"
    }
   ],
   "source": [
    "Y_piano = Y_test_final[Y_test_final['instrument'] == 'Piano']\n",
    "X_piano = X_test_final[Y_test_final['instrument'] == 'Piano']\n",
    "y_piano_hat = model.predict(X_piano)\n",
    "cm = confusion_matrix(Y_piano['label'], y_piano_hat)\n",
    "plot_confusion_matrix(cm, classes=labels_dict.keys(),\n",
    "                          normalize=False,\n",
    "                          title='Confusion matrix',\n",
    "                          cmap=plt.cm.Blues)"
   ]
  },
  {
   "cell_type": "markdown",
   "metadata": {},
   "source": [
    "We can see that the algorithm performs better than on the accordion"
   ]
  },
  {
   "cell_type": "markdown",
   "metadata": {},
   "source": [
    "### Violin"
   ]
  },
  {
   "cell_type": "code",
   "execution_count": 67,
   "metadata": {},
   "outputs": [
    {
     "name": "stdout",
     "output_type": "stream",
     "text": [
      "Confusion matrix, without normalization\n",
      "[[10  0  0  0  0  0  0  0  0  0]\n",
      " [ 1  3  0  3  0  0  0  0  4  0]\n",
      " [ 0  0 10  0  6  0  0  0  0  3]\n",
      " [ 0  0  0  8  0  0  0  1  0  0]\n",
      " [ 0  0  0  0 15  0  0  0  0  0]\n",
      " [ 0  0  0  0  0 10  0  0  3  0]\n",
      " [ 0  0  0  0  0  0  8  0  0  0]\n",
      " [ 0  0  0  0  0  0  0 11  0  0]\n",
      " [ 0  6  0  0  0  0  0  0  4  0]\n",
      " [ 0  0  0  0  4  0  0  0  0 26]]\n"
     ]
    },
    {
     "data": {
      "image/png": "[encoded data removed]",
      "text/plain": [
       "<Figure size 432x288 with 2 Axes>"
      ]
     },
     "metadata": {},
     "output_type": "display_data"
    }
   ],
   "source": [
    "Y_violin = Y_test_final[Y_test_final['instrument'] == 'Violin']\n",
    "X_violin = X_test_final[Y_test_final['instrument'] == 'Violin']\n",
    "y_violin_hat = model.predict(X_violin)\n",
    "cm = confusion_matrix(Y_violin['label'], y_violin_hat)\n",
    "plot_confusion_matrix(cm, classes=labels_dict.keys(),\n",
    "                          normalize=False,\n",
    "                          title='Confusion matrix',\n",
    "                          cmap=plt.cm.Blues)"
   ]
  },
  {
   "cell_type": "markdown",
   "metadata": {},
   "source": [
    "Finally, we can see that the performance for the violin is somewhat inbetween that for the piano and the accordion."
   ]
  }
 ],
 "metadata": {
  "kernelspec": {
   "display_name": "Tensorflow",
   "language": "python",
   "name": "tensorflow"
  },
  "language_info": {
   "codemirror_mode": {
    "name": "ipython",
    "version": 3
   },
   "file_extension": ".py",
   "mimetype": "text/x-python",
   "name": "python",
   "nbconvert_exporter": "python",
   "pygments_lexer": "ipython3",
   "version": "3.6.4"
  }
 },
 "nbformat": 4,
 "nbformat_minor": 2
}
